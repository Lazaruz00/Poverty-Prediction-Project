{
 "cells": [
  {
   "cell_type": "code",
   "execution_count": 1,
   "id": "3b0187a1",
   "metadata": {},
   "outputs": [],
   "source": [
    "import pandas as pd\n",
    "import numpy as np\n",
    "import matplotlib.pyplot as plt\n",
    "from collections import Counter\n",
    "from sklearn.preprocessing import StandardScaler, LabelEncoder\n",
    "from sklearn.model_selection import train_test_split as tts, cross_val_score as cv, RepeatedStratifiedKFold as rsk\n",
    "from sklearn.ensemble import RandomForestClassifier as rf, ExtraTreesClassifier as et, BaggingClassifier as bc\n",
    "from sklearn.metrics import accuracy_score, confusion_matrix, classification_report, f1_score\n",
    "from sklearn.utils import class_weight\n",
    "import lightgbm as lgb"
   ]
  },
  {
   "cell_type": "code",
   "execution_count": 2,
   "id": "cdea864a",
   "metadata": {},
   "outputs": [],
   "source": [
    "df_train = pd.read_csv(\"train_df_renamed.csv\")\n",
    "df_test = pd.read_csv(\"test_df_renamed.csv\")"
   ]
  },
  {
   "cell_type": "code",
   "execution_count": 3,
   "id": "84e6dbc9",
   "metadata": {},
   "outputs": [
    {
     "name": "stdout",
     "output_type": "stream",
     "text": [
      "No of households where target values are not all the same: 85\n"
     ]
    }
   ],
   "source": [
    "all_equal = df_train.groupby('Household level identifier')['Target'].apply(lambda x: x.nunique() == 1)\n",
    "not_equal = all_equal[all_equal != True]\n",
    "print('No of households where target values are not all the same: %s'%(len(not_equal)))"
   ]
  },
  {
   "cell_type": "code",
   "execution_count": 4,
   "id": "b66a074b",
   "metadata": {},
   "outputs": [
    {
     "data": {
      "text/html": [
       "<div>\n",
       "<style scoped>\n",
       "    .dataframe tbody tr th:only-of-type {\n",
       "        vertical-align: middle;\n",
       "    }\n",
       "\n",
       "    .dataframe tbody tr th {\n",
       "        vertical-align: top;\n",
       "    }\n",
       "\n",
       "    .dataframe thead th {\n",
       "        text-align: right;\n",
       "    }\n",
       "</style>\n",
       "<table border=\"1\" class=\"dataframe\">\n",
       "  <thead>\n",
       "    <tr style=\"text-align: right;\">\n",
       "      <th></th>\n",
       "      <th>Household level identifier</th>\n",
       "      <th>=1 if household head</th>\n",
       "      <th>Target</th>\n",
       "    </tr>\n",
       "  </thead>\n",
       "  <tbody>\n",
       "    <tr>\n",
       "      <th>7651</th>\n",
       "      <td>0172ab1d9</td>\n",
       "      <td>0</td>\n",
       "      <td>3</td>\n",
       "    </tr>\n",
       "    <tr>\n",
       "      <th>7652</th>\n",
       "      <td>0172ab1d9</td>\n",
       "      <td>0</td>\n",
       "      <td>2</td>\n",
       "    </tr>\n",
       "    <tr>\n",
       "      <th>7653</th>\n",
       "      <td>0172ab1d9</td>\n",
       "      <td>0</td>\n",
       "      <td>3</td>\n",
       "    </tr>\n",
       "    <tr>\n",
       "      <th>7654</th>\n",
       "      <td>0172ab1d9</td>\n",
       "      <td>1</td>\n",
       "      <td>3</td>\n",
       "    </tr>\n",
       "    <tr>\n",
       "      <th>7655</th>\n",
       "      <td>0172ab1d9</td>\n",
       "      <td>0</td>\n",
       "      <td>2</td>\n",
       "    </tr>\n",
       "  </tbody>\n",
       "</table>\n",
       "</div>"
      ],
      "text/plain": [
       "     Household level identifier  =1 if household head  Target\n",
       "7651                  0172ab1d9                     0       3\n",
       "7652                  0172ab1d9                     0       2\n",
       "7653                  0172ab1d9                     0       3\n",
       "7654                  0172ab1d9                     1       3\n",
       "7655                  0172ab1d9                     0       2"
      ]
     },
     "execution_count": 4,
     "metadata": {},
     "output_type": "execute_result"
    }
   ],
   "source": [
    "# e.g. of households with different target values\n",
    "df_train[df_train['Household level identifier'] == not_equal.index[0]][['Household level identifier', '=1 if household head', 'Target']]"
   ]
  },
  {
   "cell_type": "code",
   "execution_count": 5,
   "id": "ad47fd11",
   "metadata": {
    "scrolled": true
   },
   "outputs": [
    {
     "name": "stdout",
     "output_type": "stream",
     "text": [
      "No. of households with no heads: 15\n"
     ]
    }
   ],
   "source": [
    "households_with_head = df_train.groupby('Household level identifier')['=1 if household head'].sum()\n",
    "households_no_heads = df_train.loc[df_train['Household level identifier'].isin(households_with_head[households_with_head == 0].index), :]\n",
    "print('No. of households with no heads: %s' %households_no_heads['Household level identifier'].nunique())"
   ]
  },
  {
   "cell_type": "code",
   "execution_count": 6,
   "id": "7498e009",
   "metadata": {},
   "outputs": [],
   "source": [
    "households_nh_equal = households_no_heads.groupby('Household level identifier')['Target'].apply(lambda x:x.nunique()==1)"
   ]
  },
  {
   "cell_type": "code",
   "execution_count": 7,
   "id": "f15a06cd",
   "metadata": {},
   "outputs": [
    {
     "name": "stdout",
     "output_type": "stream",
     "text": [
      "No. of households with no heads & have different labels: 0\n"
     ]
    }
   ],
   "source": [
    "print('No. of households with no heads & have different labels: %s' %sum(households_nh_equal==False))"
   ]
  },
  {
   "cell_type": "code",
   "execution_count": 8,
   "id": "c190328e",
   "metadata": {},
   "outputs": [
    {
     "data": {
      "text/plain": [
       "(9557, 141)"
      ]
     },
     "execution_count": 8,
     "metadata": {},
     "output_type": "execute_result"
    }
   ],
   "source": [
    "df_train.shape"
   ]
  },
  {
   "cell_type": "code",
   "execution_count": 9,
   "id": "b16cca37",
   "metadata": {},
   "outputs": [],
   "source": [
    "# change households' targets with different target labels to be same as that household head\n",
    "for h in not_equal.index:\n",
    "    label = int(df_train[(df_train['Household level identifier'] == h) & (df_train['=1 if household head'] == 1)]['Target'])\n",
    "    df_train.loc[df_train['Household level identifier'] == h, 'Target'] = label\n",
    "    \n",
    "all_equal_1 = df_train.groupby('Household level identifier')['Target'].apply(lambda x:x.nunique()==1)"
   ]
  },
  {
   "cell_type": "code",
   "execution_count": 10,
   "id": "e343ce7e",
   "metadata": {},
   "outputs": [
    {
     "name": "stdout",
     "output_type": "stream",
     "text": [
      "No of households where target values are not all the same: 0\n"
     ]
    }
   ],
   "source": [
    "a = df_train.groupby('Household level identifier')['Target'].apply(lambda x: x.nunique() == 1)\n",
    "not_equal = a[a != True]\n",
    "print('No of households where target values are not all the same: %s'%(len(not_equal)))"
   ]
  },
  {
   "cell_type": "code",
   "execution_count": 11,
   "id": "61163410",
   "metadata": {},
   "outputs": [
    {
     "name": "stdout",
     "output_type": "stream",
     "text": [
      "Class = 4, Count = 6004, Percentage = 62.823%\n",
      "Class = 2, Count = 1558, Percentage = 16.302%\n",
      "Class = 3, Count = 1221, Percentage = 12.776%\n",
      "Class = 1, Count = 774, Percentage = 8.099%\n"
     ]
    }
   ],
   "source": [
    "#let's look at the distribution of the classes\n",
    "target = df_train.values[:, -1]\n",
    "counter = Counter(target)\n",
    "for i, j in counter.items():\n",
    "    percent = j/len(target)*100\n",
    "    print('Class = %s, Count = %d, Percentage = %.3f%%' %(i, j, percent))"
   ]
  },
  {
   "cell_type": "markdown",
   "id": "968950ed",
   "metadata": {},
   "source": [
    "So we see that not all the classes are equally distributed. This indicates that we may have to use means such as adding weights for multiclass classification for imbalanced dataset."
   ]
  },
  {
   "cell_type": "code",
   "execution_count": 12,
   "id": "08ede221",
   "metadata": {
    "scrolled": true
   },
   "outputs": [
    {
     "data": {
      "text/html": [
       "<div>\n",
       "<style scoped>\n",
       "    .dataframe tbody tr th:only-of-type {\n",
       "        vertical-align: middle;\n",
       "    }\n",
       "\n",
       "    .dataframe tbody tr th {\n",
       "        vertical-align: top;\n",
       "    }\n",
       "\n",
       "    .dataframe thead th {\n",
       "        text-align: right;\n",
       "    }\n",
       "</style>\n",
       "<table border=\"1\" class=\"dataframe\">\n",
       "  <thead>\n",
       "    <tr style=\"text-align: right;\">\n",
       "      <th></th>\n",
       "      <th>Household level identifier</th>\n",
       "      <th>Id</th>\n",
       "      <th>Monthly rent payment</th>\n",
       "      <th>=1 Overcrowding by bedrooms</th>\n",
       "      <th>number of all rooms in the house</th>\n",
       "      <th>=1 Overcrowding by rooms</th>\n",
       "      <th>=1 has toilet in the household</th>\n",
       "      <th>=1 if the household has refrigerator</th>\n",
       "      <th>owns a tablet</th>\n",
       "      <th>number of tablets household owns</th>\n",
       "      <th>...</th>\n",
       "      <th>=1 region Central</th>\n",
       "      <th>=1 region Chorotega</th>\n",
       "      <th>=1 region PacÃƒÂ­fico central</th>\n",
       "      <th>=1 region Brunca</th>\n",
       "      <th>=1 region Huetar AtlÃƒÂ¡ntica</th>\n",
       "      <th>=1 region Huetar Norte</th>\n",
       "      <th>=1 zona urbana</th>\n",
       "      <th>=2 zona rural</th>\n",
       "      <th>Age in years</th>\n",
       "      <th>Target</th>\n",
       "    </tr>\n",
       "  </thead>\n",
       "  <tbody>\n",
       "    <tr>\n",
       "      <th>0</th>\n",
       "      <td>21eb7fcc1</td>\n",
       "      <td>ID_279628684</td>\n",
       "      <td>190000.0</td>\n",
       "      <td>0</td>\n",
       "      <td>3</td>\n",
       "      <td>0</td>\n",
       "      <td>1</td>\n",
       "      <td>1</td>\n",
       "      <td>0</td>\n",
       "      <td>0.0</td>\n",
       "      <td>...</td>\n",
       "      <td>1</td>\n",
       "      <td>0</td>\n",
       "      <td>0</td>\n",
       "      <td>0</td>\n",
       "      <td>0</td>\n",
       "      <td>0</td>\n",
       "      <td>1</td>\n",
       "      <td>0</td>\n",
       "      <td>43</td>\n",
       "      <td>4</td>\n",
       "    </tr>\n",
       "    <tr>\n",
       "      <th>1</th>\n",
       "      <td>0e5d7a658</td>\n",
       "      <td>ID_f29eb3ddd</td>\n",
       "      <td>135000.0</td>\n",
       "      <td>0</td>\n",
       "      <td>4</td>\n",
       "      <td>0</td>\n",
       "      <td>1</td>\n",
       "      <td>1</td>\n",
       "      <td>1</td>\n",
       "      <td>1.0</td>\n",
       "      <td>...</td>\n",
       "      <td>1</td>\n",
       "      <td>0</td>\n",
       "      <td>0</td>\n",
       "      <td>0</td>\n",
       "      <td>0</td>\n",
       "      <td>0</td>\n",
       "      <td>1</td>\n",
       "      <td>0</td>\n",
       "      <td>67</td>\n",
       "      <td>4</td>\n",
       "    </tr>\n",
       "    <tr>\n",
       "      <th>2</th>\n",
       "      <td>2c7317ea8</td>\n",
       "      <td>ID_68de51c94</td>\n",
       "      <td>0.0</td>\n",
       "      <td>0</td>\n",
       "      <td>8</td>\n",
       "      <td>0</td>\n",
       "      <td>1</td>\n",
       "      <td>1</td>\n",
       "      <td>0</td>\n",
       "      <td>0.0</td>\n",
       "      <td>...</td>\n",
       "      <td>1</td>\n",
       "      <td>0</td>\n",
       "      <td>0</td>\n",
       "      <td>0</td>\n",
       "      <td>0</td>\n",
       "      <td>0</td>\n",
       "      <td>1</td>\n",
       "      <td>0</td>\n",
       "      <td>92</td>\n",
       "      <td>4</td>\n",
       "    </tr>\n",
       "    <tr>\n",
       "      <th>3</th>\n",
       "      <td>2b58d945f</td>\n",
       "      <td>ID_d671db89c</td>\n",
       "      <td>180000.0</td>\n",
       "      <td>0</td>\n",
       "      <td>5</td>\n",
       "      <td>0</td>\n",
       "      <td>1</td>\n",
       "      <td>1</td>\n",
       "      <td>1</td>\n",
       "      <td>1.0</td>\n",
       "      <td>...</td>\n",
       "      <td>1</td>\n",
       "      <td>0</td>\n",
       "      <td>0</td>\n",
       "      <td>0</td>\n",
       "      <td>0</td>\n",
       "      <td>0</td>\n",
       "      <td>1</td>\n",
       "      <td>0</td>\n",
       "      <td>17</td>\n",
       "      <td>4</td>\n",
       "    </tr>\n",
       "    <tr>\n",
       "      <th>4</th>\n",
       "      <td>2b58d945f</td>\n",
       "      <td>ID_d56d6f5f5</td>\n",
       "      <td>180000.0</td>\n",
       "      <td>0</td>\n",
       "      <td>5</td>\n",
       "      <td>0</td>\n",
       "      <td>1</td>\n",
       "      <td>1</td>\n",
       "      <td>1</td>\n",
       "      <td>1.0</td>\n",
       "      <td>...</td>\n",
       "      <td>1</td>\n",
       "      <td>0</td>\n",
       "      <td>0</td>\n",
       "      <td>0</td>\n",
       "      <td>0</td>\n",
       "      <td>0</td>\n",
       "      <td>1</td>\n",
       "      <td>0</td>\n",
       "      <td>37</td>\n",
       "      <td>4</td>\n",
       "    </tr>\n",
       "  </tbody>\n",
       "</table>\n",
       "<p>5 rows × 132 columns</p>\n",
       "</div>"
      ],
      "text/plain": [
       "  Household level identifier            Id  Monthly rent payment  \\\n",
       "0                  21eb7fcc1  ID_279628684              190000.0   \n",
       "1                  0e5d7a658  ID_f29eb3ddd              135000.0   \n",
       "2                  2c7317ea8  ID_68de51c94                   0.0   \n",
       "3                  2b58d945f  ID_d671db89c              180000.0   \n",
       "4                  2b58d945f  ID_d56d6f5f5              180000.0   \n",
       "\n",
       "   =1 Overcrowding by bedrooms   number of all rooms in the house  \\\n",
       "0                            0                                  3   \n",
       "1                            0                                  4   \n",
       "2                            0                                  8   \n",
       "3                            0                                  5   \n",
       "4                            0                                  5   \n",
       "\n",
       "   =1 Overcrowding by rooms  =1 has toilet in the household  \\\n",
       "0                         0                               1   \n",
       "1                         0                               1   \n",
       "2                         0                               1   \n",
       "3                         0                               1   \n",
       "4                         0                               1   \n",
       "\n",
       "   =1 if the household has refrigerator  owns a tablet  \\\n",
       "0                                     1              0   \n",
       "1                                     1              1   \n",
       "2                                     1              0   \n",
       "3                                     1              1   \n",
       "4                                     1              1   \n",
       "\n",
       "   number of tablets household owns  ...  =1 region Central  \\\n",
       "0                               0.0  ...                  1   \n",
       "1                               1.0  ...                  1   \n",
       "2                               0.0  ...                  1   \n",
       "3                               1.0  ...                  1   \n",
       "4                               1.0  ...                  1   \n",
       "\n",
       "   =1 region Chorotega  =1 region PacÃƒÂ­fico central  =1 region Brunca  \\\n",
       "0                    0                              0                 0   \n",
       "1                    0                              0                 0   \n",
       "2                    0                              0                 0   \n",
       "3                    0                              0                 0   \n",
       "4                    0                              0                 0   \n",
       "\n",
       "   =1 region Huetar AtlÃƒÂ¡ntica  =1 region Huetar Norte  =1 zona urbana  \\\n",
       "0                              0                       0               1   \n",
       "1                              0                       0               1   \n",
       "2                              0                       0               1   \n",
       "3                              0                       0               1   \n",
       "4                              0                       0               1   \n",
       "\n",
       "   =2 zona rural  Age in years  Target  \n",
       "0              0            43       4  \n",
       "1              0            67       4  \n",
       "2              0            92       4  \n",
       "3              0            17       4  \n",
       "4              0            37       4  \n",
       "\n",
       "[5 rows x 132 columns]"
      ]
     },
     "execution_count": 12,
     "metadata": {},
     "output_type": "execute_result"
    }
   ],
   "source": [
    "df_train.drop(df_train.loc[:, 'escolari squared':'Age squared'].columns,\n",
    "                            axis = 1, inplace = True)\n",
    "df_train.head()"
   ]
  },
  {
   "cell_type": "markdown",
   "id": "76796aee",
   "metadata": {},
   "source": [
    "We don't actually need to include household level identifier and Id during training as they are actually irrelevant data. Therefore, we should drop them too."
   ]
  },
  {
   "cell_type": "code",
   "execution_count": 13,
   "id": "1e1f06ea",
   "metadata": {
    "scrolled": true
   },
   "outputs": [
    {
     "data": {
      "text/html": [
       "<div>\n",
       "<style scoped>\n",
       "    .dataframe tbody tr th:only-of-type {\n",
       "        vertical-align: middle;\n",
       "    }\n",
       "\n",
       "    .dataframe tbody tr th {\n",
       "        vertical-align: top;\n",
       "    }\n",
       "\n",
       "    .dataframe thead th {\n",
       "        text-align: right;\n",
       "    }\n",
       "</style>\n",
       "<table border=\"1\" class=\"dataframe\">\n",
       "  <thead>\n",
       "    <tr style=\"text-align: right;\">\n",
       "      <th></th>\n",
       "      <th>Monthly rent payment</th>\n",
       "      <th>=1 Overcrowding by bedrooms</th>\n",
       "      <th>number of all rooms in the house</th>\n",
       "      <th>=1 Overcrowding by rooms</th>\n",
       "      <th>=1 has toilet in the household</th>\n",
       "      <th>=1 if the household has refrigerator</th>\n",
       "      <th>owns a tablet</th>\n",
       "      <th>number of tablets household owns</th>\n",
       "      <th>Males younger than 12 years of age</th>\n",
       "      <th>Males 12 years of age and older</th>\n",
       "      <th>...</th>\n",
       "      <th>=1 region Central</th>\n",
       "      <th>=1 region Chorotega</th>\n",
       "      <th>=1 region PacÃƒÂ­fico central</th>\n",
       "      <th>=1 region Brunca</th>\n",
       "      <th>=1 region Huetar AtlÃƒÂ¡ntica</th>\n",
       "      <th>=1 region Huetar Norte</th>\n",
       "      <th>=1 zona urbana</th>\n",
       "      <th>=2 zona rural</th>\n",
       "      <th>Age in years</th>\n",
       "      <th>Target</th>\n",
       "    </tr>\n",
       "  </thead>\n",
       "  <tbody>\n",
       "    <tr>\n",
       "      <th>0</th>\n",
       "      <td>190000.0</td>\n",
       "      <td>0</td>\n",
       "      <td>3</td>\n",
       "      <td>0</td>\n",
       "      <td>1</td>\n",
       "      <td>1</td>\n",
       "      <td>0</td>\n",
       "      <td>0.0</td>\n",
       "      <td>0</td>\n",
       "      <td>1</td>\n",
       "      <td>...</td>\n",
       "      <td>1</td>\n",
       "      <td>0</td>\n",
       "      <td>0</td>\n",
       "      <td>0</td>\n",
       "      <td>0</td>\n",
       "      <td>0</td>\n",
       "      <td>1</td>\n",
       "      <td>0</td>\n",
       "      <td>43</td>\n",
       "      <td>4</td>\n",
       "    </tr>\n",
       "    <tr>\n",
       "      <th>1</th>\n",
       "      <td>135000.0</td>\n",
       "      <td>0</td>\n",
       "      <td>4</td>\n",
       "      <td>0</td>\n",
       "      <td>1</td>\n",
       "      <td>1</td>\n",
       "      <td>1</td>\n",
       "      <td>1.0</td>\n",
       "      <td>0</td>\n",
       "      <td>1</td>\n",
       "      <td>...</td>\n",
       "      <td>1</td>\n",
       "      <td>0</td>\n",
       "      <td>0</td>\n",
       "      <td>0</td>\n",
       "      <td>0</td>\n",
       "      <td>0</td>\n",
       "      <td>1</td>\n",
       "      <td>0</td>\n",
       "      <td>67</td>\n",
       "      <td>4</td>\n",
       "    </tr>\n",
       "    <tr>\n",
       "      <th>2</th>\n",
       "      <td>0.0</td>\n",
       "      <td>0</td>\n",
       "      <td>8</td>\n",
       "      <td>0</td>\n",
       "      <td>1</td>\n",
       "      <td>1</td>\n",
       "      <td>0</td>\n",
       "      <td>0.0</td>\n",
       "      <td>0</td>\n",
       "      <td>0</td>\n",
       "      <td>...</td>\n",
       "      <td>1</td>\n",
       "      <td>0</td>\n",
       "      <td>0</td>\n",
       "      <td>0</td>\n",
       "      <td>0</td>\n",
       "      <td>0</td>\n",
       "      <td>1</td>\n",
       "      <td>0</td>\n",
       "      <td>92</td>\n",
       "      <td>4</td>\n",
       "    </tr>\n",
       "    <tr>\n",
       "      <th>3</th>\n",
       "      <td>180000.0</td>\n",
       "      <td>0</td>\n",
       "      <td>5</td>\n",
       "      <td>0</td>\n",
       "      <td>1</td>\n",
       "      <td>1</td>\n",
       "      <td>1</td>\n",
       "      <td>1.0</td>\n",
       "      <td>0</td>\n",
       "      <td>2</td>\n",
       "      <td>...</td>\n",
       "      <td>1</td>\n",
       "      <td>0</td>\n",
       "      <td>0</td>\n",
       "      <td>0</td>\n",
       "      <td>0</td>\n",
       "      <td>0</td>\n",
       "      <td>1</td>\n",
       "      <td>0</td>\n",
       "      <td>17</td>\n",
       "      <td>4</td>\n",
       "    </tr>\n",
       "    <tr>\n",
       "      <th>4</th>\n",
       "      <td>180000.0</td>\n",
       "      <td>0</td>\n",
       "      <td>5</td>\n",
       "      <td>0</td>\n",
       "      <td>1</td>\n",
       "      <td>1</td>\n",
       "      <td>1</td>\n",
       "      <td>1.0</td>\n",
       "      <td>0</td>\n",
       "      <td>2</td>\n",
       "      <td>...</td>\n",
       "      <td>1</td>\n",
       "      <td>0</td>\n",
       "      <td>0</td>\n",
       "      <td>0</td>\n",
       "      <td>0</td>\n",
       "      <td>0</td>\n",
       "      <td>1</td>\n",
       "      <td>0</td>\n",
       "      <td>37</td>\n",
       "      <td>4</td>\n",
       "    </tr>\n",
       "  </tbody>\n",
       "</table>\n",
       "<p>5 rows × 130 columns</p>\n",
       "</div>"
      ],
      "text/plain": [
       "   Monthly rent payment  =1 Overcrowding by bedrooms  \\\n",
       "0              190000.0                            0   \n",
       "1              135000.0                            0   \n",
       "2                   0.0                            0   \n",
       "3              180000.0                            0   \n",
       "4              180000.0                            0   \n",
       "\n",
       "    number of all rooms in the house  =1 Overcrowding by rooms  \\\n",
       "0                                  3                         0   \n",
       "1                                  4                         0   \n",
       "2                                  8                         0   \n",
       "3                                  5                         0   \n",
       "4                                  5                         0   \n",
       "\n",
       "   =1 has toilet in the household  =1 if the household has refrigerator  \\\n",
       "0                               1                                     1   \n",
       "1                               1                                     1   \n",
       "2                               1                                     1   \n",
       "3                               1                                     1   \n",
       "4                               1                                     1   \n",
       "\n",
       "   owns a tablet  number of tablets household owns  \\\n",
       "0              0                               0.0   \n",
       "1              1                               1.0   \n",
       "2              0                               0.0   \n",
       "3              1                               1.0   \n",
       "4              1                               1.0   \n",
       "\n",
       "   Males younger than 12 years of age  Males 12 years of age and older  ...  \\\n",
       "0                                   0                                1  ...   \n",
       "1                                   0                                1  ...   \n",
       "2                                   0                                0  ...   \n",
       "3                                   0                                2  ...   \n",
       "4                                   0                                2  ...   \n",
       "\n",
       "   =1 region Central  =1 region Chorotega  =1 region PacÃƒÂ­fico central  \\\n",
       "0                  1                    0                              0   \n",
       "1                  1                    0                              0   \n",
       "2                  1                    0                              0   \n",
       "3                  1                    0                              0   \n",
       "4                  1                    0                              0   \n",
       "\n",
       "   =1 region Brunca  =1 region Huetar AtlÃƒÂ¡ntica  =1 region Huetar Norte  \\\n",
       "0                 0                              0                       0   \n",
       "1                 0                              0                       0   \n",
       "2                 0                              0                       0   \n",
       "3                 0                              0                       0   \n",
       "4                 0                              0                       0   \n",
       "\n",
       "   =1 zona urbana  =2 zona rural  Age in years  Target  \n",
       "0               1              0            43       4  \n",
       "1               1              0            67       4  \n",
       "2               1              0            92       4  \n",
       "3               1              0            17       4  \n",
       "4               1              0            37       4  \n",
       "\n",
       "[5 rows x 130 columns]"
      ]
     },
     "execution_count": 13,
     "metadata": {},
     "output_type": "execute_result"
    }
   ],
   "source": [
    "df_train.drop(['Household level identifier', 'Id'], axis = 1,\n",
    "             inplace = True)\n",
    "df_train.head()"
   ]
  },
  {
   "cell_type": "markdown",
   "id": "7cb3b0a8",
   "metadata": {},
   "source": [
    "## Functions for preprocessing data"
   ]
  },
  {
   "cell_type": "code",
   "execution_count": 14,
   "id": "e784138e",
   "metadata": {},
   "outputs": [],
   "source": [
    "#need to normalise some of the columns\n",
    "def prepData(df):\n",
    "    unnormal_cols = selectUnnormalised(df)\n",
    "    x = df.iloc[:, :-1]\n",
    "    y = df.iloc[:, -1:]\n",
    "    xtrain, xtest, ytrain, ytest = tts(x,y,test_size = 0.3, random_state = 42)\n",
    "    xTrain, xTest = normalise(unnormal_cols, xtrain, xtest)\n",
    "    yTrain, yTest = ytrain.values.ravel(), ytest.values.ravel()\n",
    "    return xTrain.values, xTest.values, yTrain, yTest\n",
    "\n",
    "#getting the columns with non-normalised values\n",
    "def selectUnnormalised(df):\n",
    "    normCol = df.columns[df.isin([0,1]).all()] #getting the binary columns\n",
    "    dfCols_list = list(df.columns)\n",
    "    unnormCols = list(set(dfCols_list)-set(normCol))\n",
    "    \n",
    "    #remove target because we shouldn't normalise that, but rather encode\n",
    "    unnormCols.remove('Target')\n",
    "    return unnormCols\n",
    "\n",
    "#normalising data in training set\n",
    "def normalise(unnormCols, xTrain, xTest):\n",
    "    #normalise training data\n",
    "    toBeNorm_train = xTrain[[i for i in unnormCols]]\n",
    "    ss = StandardScaler()\n",
    "    std_scale = ss.fit(toBeNorm_train)\n",
    "    xTrain_norm = std_scale.transform(toBeNorm_train)\n",
    "    \n",
    "    #covert numpy array to df\n",
    "    xTrain_normCol = pd.DataFrame(xTrain_norm, index = toBeNorm_train.index,\n",
    "                                 columns = toBeNorm_train.columns)\n",
    "    xTrain.update(xTrain_normCol)\n",
    "    \n",
    "    #normalise test data using mean and SD of training set\n",
    "    toBeNorm_test = xTest[[i for i in unnormCols]]\n",
    "    xTest_norm = std_scale.transform(toBeNorm_test)\n",
    "    xTest_normCol = pd.DataFrame(xTest_norm, index = toBeNorm_test.index,\n",
    "                                columns = toBeNorm_test.columns)\n",
    "    xTest.update(xTest_normCol)\n",
    "    \n",
    "    return xTrain, xTest\n",
    "\n"
   ]
  },
  {
   "cell_type": "markdown",
   "id": "5453498b",
   "metadata": {},
   "source": [
    "## Fuctions for training models"
   ]
  },
  {
   "cell_type": "code",
   "execution_count": 15,
   "id": "bc556be7",
   "metadata": {},
   "outputs": [],
   "source": [
    "#training models\n",
    "# we start with bagging classifier\n",
    "def trainBG(xtrain, xtest, ytrain,  ytest):\n",
    "    #get list of accuracies\n",
    "    accEst_train = []\n",
    "    accEst_test = []\n",
    "    accFeat_train = []\n",
    "    accFeat_test = []\n",
    "    accSam_train = []\n",
    "    accSam_test = []\n",
    "    \n",
    "    #to vary the parameters\n",
    "    num_estimators = [500,800,1000,1250,1650]\n",
    "    max_feature = [20,50,75,100,129]\n",
    "    max_sample = [100,200,225,275,300]\n",
    "    \n",
    "    \n",
    "    \n",
    "    #train with varying num_estimators\n",
    "    print(\"Training with varying num_estimators...\")\n",
    "    print(\"Completed run: \\t\")\n",
    "    for i in range(0,len(num_estimators)):\n",
    "       \n",
    "        bc_clf = bc(n_estimators = num_estimators[i],\n",
    "                   max_features = max_feature[0], max_samples = max_sample[0], n_jobs = 5)\n",
    "        bc_clf.fit(xtrain, ytrain)\n",
    "        accEst_train.append(bc_clf.score(xtrain, ytrain))\n",
    "        accEst_test.append(bc_clf.score(xtest,ytest))\n",
    "        print(str(i+1), end = \"\\t\")\n",
    "        \n",
    "    best_est = num_estimators[np.argmax(accEst_test)]\n",
    "    \n",
    "    #train with varying max_features\n",
    "    print(\"\\nTraining with varying max_features...\")\n",
    "    print(\"Completed run: \\t\")\n",
    "    for i in range(0,len(max_feature)):\n",
    "        \n",
    "        bc_clf = bc(n_estimators = best_est,\n",
    "                   max_features = max_feature[i], max_samples = max_sample[0], n_jobs = 5)\n",
    "        bc_clf.fit(xtrain, ytrain)\n",
    "        accFeat_train.append(bc_clf.score(xtrain, ytrain))\n",
    "        accFeat_test.append(bc_clf.score(xtest,ytest))\n",
    "        print(str(i+1), end = \"\\t\")\n",
    "        \n",
    "    best_numFeat = max_feature[np.argmax(accFeat_test)]\n",
    "    \n",
    "    #train with varying max_sample\n",
    "    print(\"\\nTraining with varying max_sample...\")\n",
    "    print(\"Completed run: \\t\")\n",
    "    for i in range(0,len(max_sample)):\n",
    "        \n",
    "        bc_clf = bc(n_estimators = best_est,\n",
    "                   max_features = best_numFeat, max_samples = max_sample[i], n_jobs = 5)\n",
    "        bc_clf.fit(xtrain, ytrain)\n",
    "        accSam_train.append(bc_clf.score(xtrain, ytrain))\n",
    "        accSam_test.append(bc_clf.score(xtest,ytest))\n",
    "        print(str(i+1), end = \"\\t\")\n",
    "        \n",
    "    best_numSam = max_sample[np.argmax(accSam_test)]\n",
    "    \n",
    "    print(\"\\n\\nBest parameters for...\\nnum_estimators: %d\\tmax_features: %d\\tmax_samples: %d\" %(best_est, best_numFeat, best_numSam))\n",
    "    \n",
    "    return accEst_train, accEst_test, accFeat_train, accFeat_test, accSam_train, accSam_test, best_est, best_numFeat, best_numSam\n",
    "\n",
    "def trainRF_or_ET(modelName, xtrain, xtest, ytrain,  ytest):\n",
    "    accEst_train = []\n",
    "    accEst_test = []\n",
    "    accDepth_train = []\n",
    "    accDepth_test = []\n",
    "    \n",
    "    #to vary the parameters\n",
    "    num_estimators = [500,800,1000,1250,1650]\n",
    "    max_deep = [35,50,75,100,125]\n",
    "    \n",
    "    #train for varying num_estimators\n",
    "    print(\"Training with varying num_estimators...\")\n",
    "    print(\"Completed run: \\t\")\n",
    "    for i in range(0,len(num_estimators)):\n",
    "        if(modelName == \"random forest\"):\n",
    "            model = rf(n_estimators = num_estimators[i],\n",
    "                       max_depth = max_deep[0], class_weight ='balanced')\n",
    "            \n",
    "        elif(modelName == \"extra tree\"):\n",
    "            model = et(n_estimators = num_estimators[i],\n",
    "                      max_depth = max_deep[0], class_weight = 'balanced')\n",
    "        \n",
    "        model.fit(xtrain,ytrain)\n",
    "        accEst_train.append(model.score(xtrain, ytrain))\n",
    "        accEst_test.append(model.score(xtest, ytest))\n",
    "        print(str(i+1), end = \"\\t\")\n",
    "    \n",
    "    best_est = num_estimators[np.argmax(accEst_test)]\n",
    "    \n",
    "    #train for varying max_depth\n",
    "    print(\"\\nTraining with varying max_depth...\")\n",
    "    print(\"Completed run: \\t\")\n",
    "    for i in range(0,len(max_deep)):\n",
    "        if(modelName == \"random forest\"):\n",
    "            model = rf(n_estimators = best_est,\n",
    "                       max_depth = max_deep[i], class_weight ='balanced')\n",
    "            \n",
    "        elif(modelName == \"extra tree\"):\n",
    "            model = et(n_estimators = best_est,\n",
    "                      max_depth = max_deep[i], class_weight = 'balanced')\n",
    "        \n",
    "        model.fit(xtrain,ytrain)\n",
    "        accDepth_train.append(model.score(xtrain, ytrain))\n",
    "        accDepth_test.append(model.score(xtest, ytest))\n",
    "        print(str(i+1), end = \"\\t\")\n",
    "    \n",
    "    best_depth = max_deep[np.argmax(accDepth_test)]\n",
    "    \n",
    "    print(\"\\n\\nBest parameters for...\\nnum_estimators: %d\\tmax_depth: %d\" %(best_est, best_depth))\n",
    "\n",
    "    return accEst_train, accEst_test, accDepth_train, accDepth_test, best_est, best_depth"
   ]
  },
  {
   "cell_type": "code",
   "execution_count": 16,
   "id": "0e054e76",
   "metadata": {},
   "outputs": [],
   "source": [
    "xTrain, xTest, yTrain, yTest = prepData(df_train)"
   ]
  },
  {
   "cell_type": "code",
   "execution_count": 21,
   "id": "8d677efb",
   "metadata": {},
   "outputs": [
    {
     "data": {
      "text/plain": [
       "4    1775\n",
       "2     462\n",
       "3     382\n",
       "1     249\n",
       "dtype: int64"
      ]
     },
     "execution_count": 21,
     "metadata": {},
     "output_type": "execute_result"
    }
   ],
   "source": [
    "# predictions = pd.DataFrame(yTest)\n",
    "predictions.value_counts()"
   ]
  },
  {
   "cell_type": "code",
   "execution_count": 18,
   "id": "b2d47792",
   "metadata": {},
   "outputs": [
    {
     "name": "stdout",
     "output_type": "stream",
     "text": [
      "Training with varying num_estimators...\n",
      "Completed run: \t\n",
      "1\t2\t3\t4\t5\t\n",
      "Training with varying max_features...\n",
      "Completed run: \t\n",
      "1\t2\t3\t4\t5\t\n",
      "Training with varying max_sample...\n",
      "Completed run: \t\n",
      "1\t2\t3\t4\t5\t\n",
      "\n",
      "Best parameters for...\n",
      "num_estimators: 1250\tmax_features: 129\tmax_samples: 300\n"
     ]
    }
   ],
   "source": [
    "estTrain_bg, estTest_bg, featureTrain_bg, featureTest_bg, sampleTrain_bg, sampleTest_bg, num_est_bg, max_feat_bg, max_samp_bg= trainBG(xTrain, xTest, yTrain, yTest)"
   ]
  },
  {
   "cell_type": "code",
   "execution_count": 19,
   "id": "b40f65db",
   "metadata": {},
   "outputs": [
    {
     "name": "stdout",
     "output_type": "stream",
     "text": [
      "Training with varying num_estimators...\n",
      "Completed run: \t\n",
      "1\t2\t3\t4\t5\t\n",
      "Training with varying max_depth...\n",
      "Completed run: \t\n",
      "1\t2\t3\t4\t5\t\n",
      "\n",
      "Best parameters for...\n",
      "num_estimators: 800\tmax_depth: 125\n"
     ]
    }
   ],
   "source": [
    "estTrain_rf, estTest_rf, depthTrain_rf, depthTest_rf, num_est_rf, max_deep_rf = trainRF_or_ET(\"random forest\", xTrain, xTest, yTrain, yTest)"
   ]
  },
  {
   "cell_type": "code",
   "execution_count": 20,
   "id": "c8631b09",
   "metadata": {},
   "outputs": [
    {
     "name": "stdout",
     "output_type": "stream",
     "text": [
      "Training with varying num_estimators...\n",
      "Completed run: \t\n",
      "1\t2\t3\t4\t5\t\n",
      "Training with varying max_depth...\n",
      "Completed run: \t\n",
      "1\t2\t3\t4\t5\t\n",
      "\n",
      "Best parameters for...\n",
      "num_estimators: 1000\tmax_depth: 100\n"
     ]
    }
   ],
   "source": [
    "estTrain_et, estTest_et, depthTrain_et, depthTest_et, num_est_et, max_deep_et = trainRF_or_ET(\"extra tree\", xTrain, xTest, yTrain, yTest)"
   ]
  },
  {
   "cell_type": "markdown",
   "id": "c101a95a",
   "metadata": {},
   "source": [
    "## Plot graphs"
   ]
  },
  {
   "cell_type": "code",
   "execution_count": 21,
   "id": "097659b0",
   "metadata": {},
   "outputs": [
    {
     "data": {
      "image/png": "[encoded data removed]",
      "text/plain": [
       "<Figure size 720x1080 with 3 Axes>"
      ]
     },
     "metadata": {
      "needs_background": "light"
     },
     "output_type": "display_data"
    }
   ],
   "source": [
    "#plot graph for bagging classifier\n",
    "title = [\"Varying n_estimators\", \"Varying max_features with best n_estimators\", \"Varying max_samples with best n_estimators and max_features\"]\n",
    "fig, ax = plt.subplots(3,1, figsize = (10,15))\n",
    "\n",
    "num_estimators = [500,800,1000,1250,1650]\n",
    "max_feature = [20,50,75,100,129]\n",
    "max_sample = [100,200,225,275,300]\n",
    "\n",
    "ax[0].plot(num_estimators, estTrain_bg, \"-b\", label = \"Train\")\n",
    "ax[0].plot(num_estimators, estTest_bg, \"-r\", label = \"Test\")\n",
    "ax[0].legend(loc = \"upper right\")\n",
    "ax[0].set_title(title[0])\n",
    "ax[0].set_xlabel(\"Numbers of num_estimators\")\n",
    "ax[0].set_ylabel(\"Accuracy\")\n",
    "\n",
    "ax[1].plot(max_feature, featureTrain_bg, \"-b\", label = \"Train\")\n",
    "ax[1].plot(max_feature, featureTest_bg, \"-r\", label = \"Test\")\n",
    "ax[1].legend(loc = \"upper right\")\n",
    "ax[1].set_title(title[1])\n",
    "ax[1].set_xlabel(\"Numbers of max_features\")\n",
    "ax[1].set_ylabel(\"Accuracy\")\n",
    "\n",
    "ax[2].plot(max_sample, sampleTrain_bg, \"-b\", label = \"Train\")\n",
    "ax[2].plot(max_sample, sampleTest_bg, \"-r\", label = \"Test\")\n",
    "ax[2].legend(loc = \"upper right\")\n",
    "ax[2].set_title(title[2])\n",
    "ax[2].set_xlabel(\"Numbers of max_samples\")\n",
    "ax[2].set_ylabel(\"Accuracy\")\n",
    "\n",
    "plt.show()"
   ]
  },
  {
   "cell_type": "markdown",
   "id": "825957cd",
   "metadata": {},
   "source": [
    "From the graphs above, as we continue using the best parameters that give us the highest accuracy for test set, it is clear that the accuracy of the model rises. \n",
    "\n",
    "The optimal paramaters will be set as such:\n",
    "- n_estimators = 500\n",
    "- max_features = 129\n",
    "- max_samples = 300\n",
    "\n",
    "We shall take a look at the classification accuracy of the bagging classifier with the optimal parameters"
   ]
  },
  {
   "cell_type": "code",
   "execution_count": 22,
   "id": "70642f4d",
   "metadata": {},
   "outputs": [
    {
     "name": "stdout",
     "output_type": "stream",
     "text": [
      "Classification accuracy: 0.72\n",
      "F1 score: 0.42\n"
     ]
    }
   ],
   "source": [
    "bag = bc(n_estimators = num_est_bg, max_features = max_feat_bg, max_samples = max_samp_bg)\n",
    "bag.fit(xTrain, yTrain)\n",
    "y_pred = bag.predict(xTest)\n",
    "print(\"Classification accuracy: {:.2f}\".format(bag.score(xTest, yTest)))\n",
    "print(\"F1 score: {:.2f}\".format(f1_score(yTest, y_pred, average = 'macro')))"
   ]
  },
  {
   "cell_type": "code",
   "execution_count": 23,
   "id": "1964785d",
   "metadata": {},
   "outputs": [
    {
     "data": {
      "image/png": "[encoded data removed]",
      "text/plain": [
       "<Figure size 720x720 with 2 Axes>"
      ]
     },
     "metadata": {
      "needs_background": "light"
     },
     "output_type": "display_data"
    }
   ],
   "source": [
    "#plot graph for random forest\n",
    "fig, ax = plt.subplots(2,1, figsize = (10,10))\n",
    "\n",
    "title = [\"Varying n_estimators\", \"Varying max_depth with best n_estimators\"]\n",
    "\n",
    "num_estimators = [500,800,1000,1250,1650]\n",
    "max_deep = [35,50,75,100,125]\n",
    "\n",
    "ax[0].plot(num_estimators, estTrain_rf, \"-b\", label = \"Train\")\n",
    "ax[0].plot(num_estimators, estTest_rf, \"-r\", label = \"Test\")\n",
    "ax[0].legend(loc = \"upper right\")\n",
    "ax[0].set_title(title[0])\n",
    "ax[0].set_xlabel(\"Number of n_estimators\")\n",
    "ax[0].set_ylabel(\"Accuracy\")\n",
    "\n",
    "ax[1].plot(max_deep, depthTrain_rf, \"-b\", label = \"Train\")\n",
    "ax[1].plot(max_deep, depthTest_rf, \"-r\", label = \"Test\")\n",
    "ax[1].legend(loc = \"upper right\")\n",
    "ax[1].set_title(title[1])\n",
    "ax[1].set_xlabel(\"Number of max_depth\")\n",
    "ax[1].set_ylabel(\"Accuracy\")\n",
    "\n",
    "plt.show()"
   ]
  },
  {
   "cell_type": "markdown",
   "id": "1f7d5aee",
   "metadata": {},
   "source": [
    "Random forest classifier seems to perform much more accurately and the test accuracy is relatively consistent. Therefore, we shall follow the indicated optimal parameters and create a model using them. \n",
    "\n",
    "Optimal parameters:\n",
    "- n_estimators = 500\n",
    "- max_depth = 100\n",
    "- class_weight = 'balanced'\n",
    "\n",
    "Next, we shall assess the classification accuracy of the random forest classifier."
   ]
  },
  {
   "cell_type": "code",
   "execution_count": 24,
   "id": "b579ec8e",
   "metadata": {},
   "outputs": [
    {
     "name": "stdout",
     "output_type": "stream",
     "text": [
      "Classification accuracy: 0.94\n",
      "F1 score: 0.91\n"
     ]
    }
   ],
   "source": [
    "rff = rf(n_estimators = num_est_rf, max_depth = max_deep_rf, class_weight = 'balanced')\n",
    "rff.fit(xTrain, yTrain)\n",
    "y_pred = rff.predict(xTest)\n",
    "print(\"Classification accuracy: {:.2f}\".format(rff.score(xTest, yTest)))\n",
    "print(\"F1 score: {:.2f}\".format(f1_score(yTest, y_pred, average = 'macro')))"
   ]
  },
  {
   "cell_type": "code",
   "execution_count": 25,
   "id": "667ec57d",
   "metadata": {},
   "outputs": [
    {
     "data": {
      "image/png": "[encoded data removed]",
      "text/plain": [
       "<Figure size 720x720 with 2 Axes>"
      ]
     },
     "metadata": {
      "needs_background": "light"
     },
     "output_type": "display_data"
    }
   ],
   "source": [
    "#plotting graph for extra trees\n",
    "fig, ax = plt.subplots(2,1, figsize = (10,10))\n",
    "\n",
    "title = [\"Varying n_estimators\", \"Varying max_depth with best n_estimators\"]\n",
    "\n",
    "num_estimators = [500,800,1000,1250,1650]\n",
    "max_deep = [35,50,75,100,125]\n",
    "\n",
    "ax[0].plot(num_estimators, estTrain_et, \"-b\", label = \"Train\")\n",
    "ax[0].plot(num_estimators, estTest_et, \"-r\", label = \"Test\")\n",
    "ax[0].legend(loc = \"upper right\")\n",
    "ax[0].set_title(title[0])\n",
    "ax[0].set_xlabel(\"Number of n_estimators\")\n",
    "ax[0].set_ylabel(\"Accuracy\")\n",
    "\n",
    "ax[1].plot(max_deep, depthTrain_et, \"-b\", label = \"Train\")\n",
    "ax[1].plot(max_deep, depthTest_et, \"-r\", label = \"Test\")\n",
    "ax[1].legend(loc = \"upper right\")\n",
    "ax[1].set_title(title[1])\n",
    "ax[1].set_xlabel(\"Number of max_depth\")\n",
    "ax[1].set_ylabel(\"Accuracy\")\n",
    "\n",
    "plt.show()"
   ]
  },
  {
   "cell_type": "markdown",
   "id": "45742392",
   "metadata": {},
   "source": [
    "It seems like extra trees is performing slightly better than random forest. As there are no indications of extreme overfitting and that the test accuracy is pretty consistent, we shall use the recommended optimal parameters and assess the accuracy score of the extra trees classifier model. \n",
    "\n",
    "Optimal parameters:\n",
    "- n_estimators = 500\n",
    "- max_depth = 35\n",
    "- class_weight = 'balanced'"
   ]
  },
  {
   "cell_type": "code",
   "execution_count": 26,
   "id": "0e88e5c6",
   "metadata": {},
   "outputs": [
    {
     "name": "stdout",
     "output_type": "stream",
     "text": [
      "Classification accuracy: 0.95\n",
      "F1 score: 0.93\n"
     ]
    }
   ],
   "source": [
    "ett = et(n_estimators =num_est_et, max_depth = max_deep_et, class_weight = 'balanced')\n",
    "ett.fit(xTrain, yTrain)\n",
    "y_pred = ett.predict(xTest)\n",
    "print(\"Classification accuracy: {:.2f}\".format(ett.score(xTest, yTest)))\n",
    "print(\"F1 score: {:.2f}\".format(f1_score(yTest, y_pred, average = 'macro')))"
   ]
  },
  {
   "cell_type": "markdown",
   "id": "0dfcd8d6",
   "metadata": {},
   "source": [
    "## Using LightGBM classifier"
   ]
  },
  {
   "cell_type": "code",
   "execution_count": 27,
   "id": "5693b4a8",
   "metadata": {},
   "outputs": [
    {
     "name": "stdout",
     "output_type": "stream",
     "text": [
      "Training until validation scores don't improve for 400 rounds\n",
      "[100]\tvalid_0's multi_logloss: 0.593117\n",
      "[200]\tvalid_0's multi_logloss: 0.387651\n",
      "[300]\tvalid_0's multi_logloss: 0.28033\n",
      "[400]\tvalid_0's multi_logloss: 0.222624\n",
      "[500]\tvalid_0's multi_logloss: 0.193447\n",
      "[600]\tvalid_0's multi_logloss: 0.178482\n",
      "[700]\tvalid_0's multi_logloss: 0.174862\n",
      "[800]\tvalid_0's multi_logloss: 0.177258\n",
      "[900]\tvalid_0's multi_logloss: 0.183952\n",
      "[1000]\tvalid_0's multi_logloss: 0.191155\n",
      "Early stopping, best iteration is:\n",
      "[689]\tvalid_0's multi_logloss: 0.17455\n"
     ]
    }
   ],
   "source": [
    "# build the model\n",
    "lgb_clf = lgb.LGBMClassifier(max_depth=-1, learning_rate=0.03, objective='multiclass',\n",
    "                             random_state=None, silent=True, metric='multi_logloss', \n",
    "                             n_jobs=4, n_estimators=5000, class_weight='balanced',\n",
    "                             colsample_bytree =  0.89, min_child_samples = 90, num_leaves = 56, subsample = 0.96)\n",
    "\n",
    "# fit data into the model and predict the test set\n",
    "lgb_clf.fit(xTrain, yTrain, eval_set=[(xTest, yTest)], \n",
    "            early_stopping_rounds=400, verbose=100)\n",
    "y_pred = lgb_clf.predict(xTest)"
   ]
  },
  {
   "cell_type": "code",
   "execution_count": 28,
   "id": "0d5b9f68",
   "metadata": {},
   "outputs": [
    {
     "name": "stdout",
     "output_type": "stream",
     "text": [
      "Classification accuracy: 0.96\n",
      "F1 score : 0.94\n"
     ]
    }
   ],
   "source": [
    "print(\"Classification accuracy: {:.2f}\".format(lgb_clf.score(xTest, yTest)))\n",
    "print(\"F1 score : {:.2f}\".format(f1_score(yTest, y_pred, average = 'macro')))"
   ]
  },
  {
   "cell_type": "markdown",
   "id": "00c0c6db",
   "metadata": {},
   "source": [
    "We conclude that **LightGBM** classifier model is the most suitable for classification of the poverty classes."
   ]
  },
  {
   "cell_type": "markdown",
   "id": "2bcf7e6b",
   "metadata": {},
   "source": [
    "## Using only household heads"
   ]
  },
  {
   "cell_type": "code",
   "execution_count": 29,
   "id": "18cc771b",
   "metadata": {},
   "outputs": [
    {
     "data": {
      "text/html": [
       "<div>\n",
       "<style scoped>\n",
       "    .dataframe tbody tr th:only-of-type {\n",
       "        vertical-align: middle;\n",
       "    }\n",
       "\n",
       "    .dataframe tbody tr th {\n",
       "        vertical-align: top;\n",
       "    }\n",
       "\n",
       "    .dataframe thead th {\n",
       "        text-align: right;\n",
       "    }\n",
       "</style>\n",
       "<table border=\"1\" class=\"dataframe\">\n",
       "  <thead>\n",
       "    <tr style=\"text-align: right;\">\n",
       "      <th></th>\n",
       "      <th>Monthly rent payment</th>\n",
       "      <th>=1 Overcrowding by bedrooms</th>\n",
       "      <th>number of all rooms in the house</th>\n",
       "      <th>=1 Overcrowding by rooms</th>\n",
       "      <th>=1 has toilet in the household</th>\n",
       "      <th>=1 if the household has refrigerator</th>\n",
       "      <th>owns a tablet</th>\n",
       "      <th>number of tablets household owns</th>\n",
       "      <th>Males younger than 12 years of age</th>\n",
       "      <th>Males 12 years of age and older</th>\n",
       "      <th>...</th>\n",
       "      <th>=1 region Central</th>\n",
       "      <th>=1 region Chorotega</th>\n",
       "      <th>=1 region PacÃƒÂ­fico central</th>\n",
       "      <th>=1 region Brunca</th>\n",
       "      <th>=1 region Huetar AtlÃƒÂ¡ntica</th>\n",
       "      <th>=1 region Huetar Norte</th>\n",
       "      <th>=1 zona urbana</th>\n",
       "      <th>=2 zona rural</th>\n",
       "      <th>Age in years</th>\n",
       "      <th>Target</th>\n",
       "    </tr>\n",
       "  </thead>\n",
       "  <tbody>\n",
       "    <tr>\n",
       "      <th>0</th>\n",
       "      <td>190000</td>\n",
       "      <td>0</td>\n",
       "      <td>3</td>\n",
       "      <td>0</td>\n",
       "      <td>1</td>\n",
       "      <td>1</td>\n",
       "      <td>0</td>\n",
       "      <td>0</td>\n",
       "      <td>0</td>\n",
       "      <td>1</td>\n",
       "      <td>...</td>\n",
       "      <td>1</td>\n",
       "      <td>0</td>\n",
       "      <td>0</td>\n",
       "      <td>0</td>\n",
       "      <td>0</td>\n",
       "      <td>0</td>\n",
       "      <td>1</td>\n",
       "      <td>0</td>\n",
       "      <td>43</td>\n",
       "      <td>4</td>\n",
       "    </tr>\n",
       "    <tr>\n",
       "      <th>1</th>\n",
       "      <td>135000</td>\n",
       "      <td>0</td>\n",
       "      <td>4</td>\n",
       "      <td>0</td>\n",
       "      <td>1</td>\n",
       "      <td>1</td>\n",
       "      <td>1</td>\n",
       "      <td>1</td>\n",
       "      <td>0</td>\n",
       "      <td>1</td>\n",
       "      <td>...</td>\n",
       "      <td>1</td>\n",
       "      <td>0</td>\n",
       "      <td>0</td>\n",
       "      <td>0</td>\n",
       "      <td>0</td>\n",
       "      <td>0</td>\n",
       "      <td>1</td>\n",
       "      <td>0</td>\n",
       "      <td>67</td>\n",
       "      <td>4</td>\n",
       "    </tr>\n",
       "    <tr>\n",
       "      <th>2</th>\n",
       "      <td>0</td>\n",
       "      <td>0</td>\n",
       "      <td>8</td>\n",
       "      <td>0</td>\n",
       "      <td>1</td>\n",
       "      <td>1</td>\n",
       "      <td>0</td>\n",
       "      <td>0</td>\n",
       "      <td>0</td>\n",
       "      <td>0</td>\n",
       "      <td>...</td>\n",
       "      <td>1</td>\n",
       "      <td>0</td>\n",
       "      <td>0</td>\n",
       "      <td>0</td>\n",
       "      <td>0</td>\n",
       "      <td>0</td>\n",
       "      <td>1</td>\n",
       "      <td>0</td>\n",
       "      <td>92</td>\n",
       "      <td>4</td>\n",
       "    </tr>\n",
       "    <tr>\n",
       "      <th>5</th>\n",
       "      <td>180000</td>\n",
       "      <td>0</td>\n",
       "      <td>5</td>\n",
       "      <td>0</td>\n",
       "      <td>1</td>\n",
       "      <td>1</td>\n",
       "      <td>1</td>\n",
       "      <td>1</td>\n",
       "      <td>0</td>\n",
       "      <td>2</td>\n",
       "      <td>...</td>\n",
       "      <td>1</td>\n",
       "      <td>0</td>\n",
       "      <td>0</td>\n",
       "      <td>0</td>\n",
       "      <td>0</td>\n",
       "      <td>0</td>\n",
       "      <td>1</td>\n",
       "      <td>0</td>\n",
       "      <td>38</td>\n",
       "      <td>4</td>\n",
       "    </tr>\n",
       "    <tr>\n",
       "      <th>8</th>\n",
       "      <td>130000</td>\n",
       "      <td>1</td>\n",
       "      <td>2</td>\n",
       "      <td>0</td>\n",
       "      <td>1</td>\n",
       "      <td>1</td>\n",
       "      <td>0</td>\n",
       "      <td>0</td>\n",
       "      <td>0</td>\n",
       "      <td>1</td>\n",
       "      <td>...</td>\n",
       "      <td>1</td>\n",
       "      <td>0</td>\n",
       "      <td>0</td>\n",
       "      <td>0</td>\n",
       "      <td>0</td>\n",
       "      <td>0</td>\n",
       "      <td>1</td>\n",
       "      <td>0</td>\n",
       "      <td>30</td>\n",
       "      <td>4</td>\n",
       "    </tr>\n",
       "  </tbody>\n",
       "</table>\n",
       "<p>5 rows × 130 columns</p>\n",
       "</div>"
      ],
      "text/plain": [
       "   Monthly rent payment  =1 Overcrowding by bedrooms  \\\n",
       "0                190000                            0   \n",
       "1                135000                            0   \n",
       "2                     0                            0   \n",
       "5                180000                            0   \n",
       "8                130000                            1   \n",
       "\n",
       "   number of all rooms in the house  =1 Overcrowding by rooms  \\\n",
       "0                                 3                         0   \n",
       "1                                 4                         0   \n",
       "2                                 8                         0   \n",
       "5                                 5                         0   \n",
       "8                                 2                         0   \n",
       "\n",
       "   =1 has toilet in the household  =1 if the household has refrigerator  \\\n",
       "0                               1                                     1   \n",
       "1                               1                                     1   \n",
       "2                               1                                     1   \n",
       "5                               1                                     1   \n",
       "8                               1                                     1   \n",
       "\n",
       "   owns a tablet  number of tablets household owns  \\\n",
       "0              0                                 0   \n",
       "1              1                                 1   \n",
       "2              0                                 0   \n",
       "5              1                                 1   \n",
       "8              0                                 0   \n",
       "\n",
       "   Males younger than 12 years of age  Males 12 years of age and older  ...  \\\n",
       "0                                   0                                1  ...   \n",
       "1                                   0                                1  ...   \n",
       "2                                   0                                0  ...   \n",
       "5                                   0                                2  ...   \n",
       "8                                   0                                1  ...   \n",
       "\n",
       "   =1 region Central  =1 region Chorotega  =1 region PacÃƒÂ­fico central  \\\n",
       "0                  1                    0                              0   \n",
       "1                  1                    0                              0   \n",
       "2                  1                    0                              0   \n",
       "5                  1                    0                              0   \n",
       "8                  1                    0                              0   \n",
       "\n",
       "   =1 region Brunca  =1 region Huetar AtlÃƒÂ¡ntica  =1 region Huetar Norte  \\\n",
       "0                 0                              0                       0   \n",
       "1                 0                              0                       0   \n",
       "2                 0                              0                       0   \n",
       "5                 0                              0                       0   \n",
       "8                 0                              0                       0   \n",
       "\n",
       "   =1 zona urbana  =2 zona rural  Age in years  Target  \n",
       "0               1              0            43       4  \n",
       "1               1              0            67       4  \n",
       "2               1              0            92       4  \n",
       "5               1              0            38       4  \n",
       "8               1              0            30       4  \n",
       "\n",
       "[5 rows x 130 columns]"
      ]
     },
     "execution_count": 29,
     "metadata": {},
     "output_type": "execute_result"
    }
   ],
   "source": [
    "df_headsOnly = df_train[df_train['=1 if household head'] == 1]\n",
    "df_headsOnly.head()"
   ]
  },
  {
   "cell_type": "code",
   "execution_count": 30,
   "id": "04385249",
   "metadata": {},
   "outputs": [],
   "source": [
    "xTrain, xTest, yTrain, yTest = prepData(df_headsOnly)"
   ]
  },
  {
   "cell_type": "code",
   "execution_count": 31,
   "id": "588413da",
   "metadata": {},
   "outputs": [
    {
     "name": "stdout",
     "output_type": "stream",
     "text": [
      "Training with varying num_estimators...\n",
      "Completed run: \t\n",
      "1\t2\t3\t4\t5\t\n",
      "Training with varying max_features...\n",
      "Completed run: \t\n",
      "1\t2\t3\t4\t5\t\n",
      "Training with varying max_sample...\n",
      "Completed run: \t\n",
      "1\t2\t3\t4\t5\t\n",
      "\n",
      "Best parameters for...\n",
      "num_estimators: 1000\tmax_features: 129\tmax_samples: 300\n"
     ]
    }
   ],
   "source": [
    "#Bagging classifier\n",
    "estTrain_bg, estTest_bg, featureTrain_bg, featureTest_bg, sampleTrain_bg, sampleTest_bg, num_est_bg, max_feat_bg, max_samp_bg= trainBG(xTrain, xTest, yTrain, yTest)"
   ]
  },
  {
   "cell_type": "code",
   "execution_count": 32,
   "id": "e054ce98",
   "metadata": {},
   "outputs": [
    {
     "name": "stdout",
     "output_type": "stream",
     "text": [
      "Training with varying num_estimators...\n",
      "Completed run: \t\n",
      "1\t2\t3\t4\t5\t\n",
      "Training with varying max_depth...\n",
      "Completed run: \t\n",
      "1\t2\t3\t4\t5\t\n",
      "\n",
      "Best parameters for...\n",
      "num_estimators: 800\tmax_depth: 125\n"
     ]
    }
   ],
   "source": [
    "#Random forest classifier\n",
    "estTrain_rf, estTest_rf, depthTrain_rf, depthTest_rf, num_est_rf, max_deep_rf = trainRF_or_ET(\"random forest\", xTrain, xTest, yTrain, yTest)"
   ]
  },
  {
   "cell_type": "code",
   "execution_count": 33,
   "id": "5861ee62",
   "metadata": {},
   "outputs": [
    {
     "name": "stdout",
     "output_type": "stream",
     "text": [
      "Training with varying num_estimators...\n",
      "Completed run: \t\n",
      "1\t2\t3\t4\t5\t\n",
      "Training with varying max_depth...\n",
      "Completed run: \t\n",
      "1\t2\t3\t4\t5\t\n",
      "\n",
      "Best parameters for...\n",
      "num_estimators: 500\tmax_depth: 35\n"
     ]
    }
   ],
   "source": [
    "#Extra trees classifier\n",
    "estTrain_et, estTest_et, depthTrain_et, depthTest_et, num_est_et, max_deep_et = trainRF_or_ET(\"extra tree\", xTrain, xTest, yTrain, yTest)"
   ]
  },
  {
   "cell_type": "markdown",
   "id": "1f302304",
   "metadata": {},
   "source": [
    "Now we assess the models' performance..."
   ]
  },
  {
   "cell_type": "code",
   "execution_count": 34,
   "id": "1c0d3463",
   "metadata": {},
   "outputs": [
    {
     "name": "stdout",
     "output_type": "stream",
     "text": [
      "Classification accuracy: 0.71\n",
      "F1 score: 0.32\n"
     ]
    }
   ],
   "source": [
    "bag_hh = bc(n_estimators = num_est_bg, max_features = max_feat_bg, max_samples = max_samp_bg)\n",
    "bag_hh.fit(xTrain, yTrain)\n",
    "y_pred = bag_hh.predict(xTest)\n",
    "print(\"Classification accuracy: {:.2f}\".format(bag_hh.score(xTest, yTest)))\n",
    "print(\"F1 score: {:.2f}\".format(f1_score(yTest, y_pred, average = 'macro')))"
   ]
  },
  {
   "cell_type": "code",
   "execution_count": 35,
   "id": "53c39562",
   "metadata": {},
   "outputs": [
    {
     "name": "stdout",
     "output_type": "stream",
     "text": [
      "Classification accuracy: 0.71\n",
      "F1 score: 0.29\n"
     ]
    }
   ],
   "source": [
    "rff_hh = rf(n_estimators = num_est_rf, max_depth = max_deep_rf, class_weight = 'balanced')\n",
    "rff_hh.fit(xTrain, yTrain)\n",
    "y_pred = rff_hh.predict(xTest)\n",
    "print(\"Classification accuracy: {:.2f}\".format(rff_hh.score(xTest, yTest)))\n",
    "print(\"F1 score: {:.2f}\".format(f1_score(yTest, y_pred, average = 'macro')))"
   ]
  },
  {
   "cell_type": "code",
   "execution_count": 36,
   "id": "4d173793",
   "metadata": {},
   "outputs": [
    {
     "name": "stdout",
     "output_type": "stream",
     "text": [
      "Classification accuracy: 0.70\n",
      "F1 score: 0.29\n"
     ]
    }
   ],
   "source": [
    "ett_hh = et(n_estimators =num_est_et, max_depth = max_deep_et, class_weight = 'balanced')\n",
    "ett_hh.fit(xTrain, yTrain)\n",
    "y_pred = ett_hh.predict(xTest)\n",
    "print(\"Classification accuracy: {:.2f}\".format(ett_hh.score(xTest, yTest)))\n",
    "print(\"F1 score: {:.2f}\".format(f1_score(yTest, y_pred, average = 'macro')))"
   ]
  },
  {
   "cell_type": "code",
   "execution_count": 37,
   "id": "38f6ed43",
   "metadata": {},
   "outputs": [
    {
     "name": "stdout",
     "output_type": "stream",
     "text": [
      "Training until validation scores don't improve for 400 rounds\n",
      "[100]\tvalid_0's multi_logloss: 1.01856\n",
      "[200]\tvalid_0's multi_logloss: 0.994385\n",
      "[300]\tvalid_0's multi_logloss: 0.982815\n",
      "[400]\tvalid_0's multi_logloss: 0.980446\n",
      "[500]\tvalid_0's multi_logloss: 0.982922\n",
      "[600]\tvalid_0's multi_logloss: 0.999186\n",
      "[700]\tvalid_0's multi_logloss: 1.01931\n",
      "[800]\tvalid_0's multi_logloss: 1.04008\n",
      "Early stopping, best iteration is:\n",
      "[413]\tvalid_0's multi_logloss: 0.979539\n"
     ]
    }
   ],
   "source": [
    "# build the model\n",
    "lgb_hh = lgb.LGBMClassifier(max_depth=-1, learning_rate=0.03, objective='multiclass',\n",
    "                             random_state=None, silent=True, metric='multi_logloss', \n",
    "                             n_jobs=4, n_estimators=5000, class_weight='balanced',\n",
    "                             colsample_bytree =  0.89, min_child_samples = 90, num_leaves = 56, subsample = 0.96)\n",
    "\n",
    "# fit data into the model and predict the test set\n",
    "lgb_hh.fit(xTrain, yTrain, eval_set=[(xTest, yTest)], \n",
    "            early_stopping_rounds=400, verbose=100)\n",
    "y_pred = lgb_hh.predict(xTest)"
   ]
  },
  {
   "cell_type": "code",
   "execution_count": 38,
   "id": "759b99bd",
   "metadata": {},
   "outputs": [
    {
     "name": "stdout",
     "output_type": "stream",
     "text": [
      "Classification accuracy: 0.93\n",
      "F1 score : 0.37\n"
     ]
    }
   ],
   "source": [
    "print(\"Classification accuracy: {:.2f}\".format(lgb_clf.score(xTest, yTest)))\n",
    "print(\"F1 score : {:.2f}\".format(f1_score(yTest, y_pred, average = 'macro')))"
   ]
  },
  {
   "cell_type": "markdown",
   "id": "cf60a4a1",
   "metadata": {},
   "source": [
    "Restricting the dataset to only using the household heads seems to result in a much lower accuracy score for the first 3 models. For LGBM, the accuracy was still high at 93%. However, the f1 score across all models were very poor. Hence, we shall train and test on the entire dataset instead."
   ]
  },
  {
   "cell_type": "markdown",
   "id": "62626fa1",
   "metadata": {},
   "source": [
    "## Predicting the test set\n",
    "\n",
    "We will pass the test dataset into our best model and write a new csv which will consists of the following columns: <br>\n",
    "1. Household id\n",
    "2. Individual's ID\n",
    "3. Predicted target/class"
   ]
  },
  {
   "cell_type": "code",
   "execution_count": 39,
   "id": "9a702bfc",
   "metadata": {},
   "outputs": [],
   "source": [
    "toTest_data = df_test.iloc[:, 2:131]\n",
    "identity = df_test.iloc[:, 1:2]"
   ]
  },
  {
   "cell_type": "code",
   "execution_count": 40,
   "id": "37dbcf58",
   "metadata": {},
   "outputs": [],
   "source": [
    "#need to prepare special function to get normalised test set\n",
    "#need to normalise some of the columns\n",
    "def prepData2(df):\n",
    "    unnormal_cols = selectUnnormalised2(df)\n",
    "    x_df = normalise2(unnormal_cols, df)\n",
    "    return x_df\n",
    "\n",
    "#getting the columns with non-normalised values\n",
    "def selectUnnormalised2(df):\n",
    "    normCol = df.columns[df.isin([0,1]).all()] #getting the binary columns\n",
    "    dfCols_list = list(df.columns)\n",
    "    unnormCols = list(set(dfCols_list)-set(normCol))\n",
    "    \n",
    "    return unnormCols\n",
    "\n",
    "#normalising data in training set\n",
    "def normalise2(unnormCols, df):\n",
    "    #normalise training data\n",
    "    toBeNorm = df[[i for i in unnormCols]]\n",
    "    ss = StandardScaler()\n",
    "    std_scale = ss.fit(toBeNorm)\n",
    "    x_norm = std_scale.transform(toBeNorm)\n",
    "    \n",
    "    #covert numpy array to df\n",
    "    x_normCols = pd.DataFrame(x_norm, index = toBeNorm.index,\n",
    "                                 columns = toBeNorm.columns)\n",
    "    df.update(x_normCols)\n",
    "    \n",
    "    return df"
   ]
  },
  {
   "cell_type": "code",
   "execution_count": 41,
   "id": "a5146e7f",
   "metadata": {},
   "outputs": [
    {
     "data": {
      "text/html": [
       "<div>\n",
       "<style scoped>\n",
       "    .dataframe tbody tr th:only-of-type {\n",
       "        vertical-align: middle;\n",
       "    }\n",
       "\n",
       "    .dataframe tbody tr th {\n",
       "        vertical-align: top;\n",
       "    }\n",
       "\n",
       "    .dataframe thead th {\n",
       "        text-align: right;\n",
       "    }\n",
       "</style>\n",
       "<table border=\"1\" class=\"dataframe\">\n",
       "  <thead>\n",
       "    <tr style=\"text-align: right;\">\n",
       "      <th></th>\n",
       "      <th>Monthly rent payment</th>\n",
       "      <th>=1 Overcrowding by bedrooms</th>\n",
       "      <th>number of all rooms in the house</th>\n",
       "      <th>=1 Overcrowding by rooms</th>\n",
       "      <th>=1 has toilet in the household</th>\n",
       "      <th>=1 if the household has refrigerator</th>\n",
       "      <th>owns a tablet</th>\n",
       "      <th>number of tablets household owns</th>\n",
       "      <th>Males younger than 12 years of age</th>\n",
       "      <th>Males 12 years of age and older</th>\n",
       "      <th>...</th>\n",
       "      <th># of mobile phones</th>\n",
       "      <th>=1 region Central</th>\n",
       "      <th>=1 region Chorotega</th>\n",
       "      <th>=1 region PacÃƒÂ­fico central</th>\n",
       "      <th>=1 region Brunca</th>\n",
       "      <th>=1 region Huetar AtlÃƒÂ¡ntica</th>\n",
       "      <th>=1 region Huetar Norte</th>\n",
       "      <th>=1 zona urbana</th>\n",
       "      <th>=2 zona rural</th>\n",
       "      <th>Age in years</th>\n",
       "    </tr>\n",
       "  </thead>\n",
       "  <tbody>\n",
       "    <tr>\n",
       "      <th>0</th>\n",
       "      <td>-0.448209</td>\n",
       "      <td>0</td>\n",
       "      <td>-0.031562</td>\n",
       "      <td>0</td>\n",
       "      <td>1</td>\n",
       "      <td>1</td>\n",
       "      <td>0</td>\n",
       "      <td>-0.498778</td>\n",
       "      <td>0.926417</td>\n",
       "      <td>-0.582620</td>\n",
       "      <td>...</td>\n",
       "      <td>-0.611722</td>\n",
       "      <td>1</td>\n",
       "      <td>0</td>\n",
       "      <td>0</td>\n",
       "      <td>0</td>\n",
       "      <td>0</td>\n",
       "      <td>0</td>\n",
       "      <td>1</td>\n",
       "      <td>0</td>\n",
       "      <td>-1.430048</td>\n",
       "    </tr>\n",
       "    <tr>\n",
       "      <th>1</th>\n",
       "      <td>-0.448209</td>\n",
       "      <td>0</td>\n",
       "      <td>-0.031562</td>\n",
       "      <td>0</td>\n",
       "      <td>1</td>\n",
       "      <td>1</td>\n",
       "      <td>0</td>\n",
       "      <td>-0.498778</td>\n",
       "      <td>0.926417</td>\n",
       "      <td>-0.582620</td>\n",
       "      <td>...</td>\n",
       "      <td>-0.611722</td>\n",
       "      <td>1</td>\n",
       "      <td>0</td>\n",
       "      <td>0</td>\n",
       "      <td>0</td>\n",
       "      <td>0</td>\n",
       "      <td>0</td>\n",
       "      <td>1</td>\n",
       "      <td>0</td>\n",
       "      <td>0.272029</td>\n",
       "    </tr>\n",
       "    <tr>\n",
       "      <th>2</th>\n",
       "      <td>-0.448209</td>\n",
       "      <td>0</td>\n",
       "      <td>-0.031562</td>\n",
       "      <td>0</td>\n",
       "      <td>1</td>\n",
       "      <td>1</td>\n",
       "      <td>0</td>\n",
       "      <td>-0.498778</td>\n",
       "      <td>0.926417</td>\n",
       "      <td>-0.582620</td>\n",
       "      <td>...</td>\n",
       "      <td>-0.611722</td>\n",
       "      <td>1</td>\n",
       "      <td>0</td>\n",
       "      <td>0</td>\n",
       "      <td>0</td>\n",
       "      <td>0</td>\n",
       "      <td>0</td>\n",
       "      <td>1</td>\n",
       "      <td>0</td>\n",
       "      <td>0.272029</td>\n",
       "    </tr>\n",
       "    <tr>\n",
       "      <th>3</th>\n",
       "      <td>-0.448209</td>\n",
       "      <td>0</td>\n",
       "      <td>5.872115</td>\n",
       "      <td>0</td>\n",
       "      <td>1</td>\n",
       "      <td>1</td>\n",
       "      <td>1</td>\n",
       "      <td>0.950721</td>\n",
       "      <td>-0.577824</td>\n",
       "      <td>-0.582620</td>\n",
       "      <td>...</td>\n",
       "      <td>-0.611722</td>\n",
       "      <td>1</td>\n",
       "      <td>0</td>\n",
       "      <td>0</td>\n",
       "      <td>0</td>\n",
       "      <td>0</td>\n",
       "      <td>0</td>\n",
       "      <td>1</td>\n",
       "      <td>0</td>\n",
       "      <td>1.100066</td>\n",
       "    </tr>\n",
       "    <tr>\n",
       "      <th>4</th>\n",
       "      <td>1.038290</td>\n",
       "      <td>0</td>\n",
       "      <td>-0.687526</td>\n",
       "      <td>0</td>\n",
       "      <td>1</td>\n",
       "      <td>1</td>\n",
       "      <td>1</td>\n",
       "      <td>0.950721</td>\n",
       "      <td>-0.577824</td>\n",
       "      <td>-1.601419</td>\n",
       "      <td>...</td>\n",
       "      <td>-1.304969</td>\n",
       "      <td>1</td>\n",
       "      <td>0</td>\n",
       "      <td>0</td>\n",
       "      <td>0</td>\n",
       "      <td>0</td>\n",
       "      <td>0</td>\n",
       "      <td>1</td>\n",
       "      <td>0</td>\n",
       "      <td>-0.786019</td>\n",
       "    </tr>\n",
       "  </tbody>\n",
       "</table>\n",
       "<p>5 rows × 129 columns</p>\n",
       "</div>"
      ],
      "text/plain": [
       "   Monthly rent payment  =1 Overcrowding by bedrooms  \\\n",
       "0             -0.448209                            0   \n",
       "1             -0.448209                            0   \n",
       "2             -0.448209                            0   \n",
       "3             -0.448209                            0   \n",
       "4              1.038290                            0   \n",
       "\n",
       "    number of all rooms in the house  =1 Overcrowding by rooms  \\\n",
       "0                          -0.031562                         0   \n",
       "1                          -0.031562                         0   \n",
       "2                          -0.031562                         0   \n",
       "3                           5.872115                         0   \n",
       "4                          -0.687526                         0   \n",
       "\n",
       "   =1 has toilet in the household  =1 if the household has refrigerator  \\\n",
       "0                               1                                     1   \n",
       "1                               1                                     1   \n",
       "2                               1                                     1   \n",
       "3                               1                                     1   \n",
       "4                               1                                     1   \n",
       "\n",
       "   owns a tablet  number of tablets household owns  \\\n",
       "0              0                         -0.498778   \n",
       "1              0                         -0.498778   \n",
       "2              0                         -0.498778   \n",
       "3              1                          0.950721   \n",
       "4              1                          0.950721   \n",
       "\n",
       "   Males younger than 12 years of age  Males 12 years of age and older  ...  \\\n",
       "0                            0.926417                        -0.582620  ...   \n",
       "1                            0.926417                        -0.582620  ...   \n",
       "2                            0.926417                        -0.582620  ...   \n",
       "3                           -0.577824                        -0.582620  ...   \n",
       "4                           -0.577824                        -1.601419  ...   \n",
       "\n",
       "   # of mobile phones  =1 region Central  =1 region Chorotega  \\\n",
       "0           -0.611722                  1                    0   \n",
       "1           -0.611722                  1                    0   \n",
       "2           -0.611722                  1                    0   \n",
       "3           -0.611722                  1                    0   \n",
       "4           -1.304969                  1                    0   \n",
       "\n",
       "   =1 region PacÃƒÂ­fico central  =1 region Brunca  \\\n",
       "0                              0                 0   \n",
       "1                              0                 0   \n",
       "2                              0                 0   \n",
       "3                              0                 0   \n",
       "4                              0                 0   \n",
       "\n",
       "   =1 region Huetar AtlÃƒÂ¡ntica  =1 region Huetar Norte  =1 zona urbana  \\\n",
       "0                              0                       0               1   \n",
       "1                              0                       0               1   \n",
       "2                              0                       0               1   \n",
       "3                              0                       0               1   \n",
       "4                              0                       0               1   \n",
       "\n",
       "   =2 zona rural  Age in years  \n",
       "0              0     -1.430048  \n",
       "1              0      0.272029  \n",
       "2              0      0.272029  \n",
       "3              0      1.100066  \n",
       "4              0     -0.786019  \n",
       "\n",
       "[5 rows x 129 columns]"
      ]
     },
     "execution_count": 41,
     "metadata": {},
     "output_type": "execute_result"
    }
   ],
   "source": [
    "xTest_true = prepData2(toTest_data) #generate normalised actual test set\n",
    "xTest_true.head()"
   ]
  },
  {
   "cell_type": "code",
   "execution_count": 42,
   "id": "c969269c",
   "metadata": {},
   "outputs": [],
   "source": [
    "xTest_truePred = lgb_clf.predict(xTest_true)"
   ]
  },
  {
   "cell_type": "code",
   "execution_count": 43,
   "id": "bcb7ab19",
   "metadata": {},
   "outputs": [
    {
     "data": {
      "text/html": [
       "<div>\n",
       "<style scoped>\n",
       "    .dataframe tbody tr th:only-of-type {\n",
       "        vertical-align: middle;\n",
       "    }\n",
       "\n",
       "    .dataframe tbody tr th {\n",
       "        vertical-align: top;\n",
       "    }\n",
       "\n",
       "    .dataframe thead th {\n",
       "        text-align: right;\n",
       "    }\n",
       "</style>\n",
       "<table border=\"1\" class=\"dataframe\">\n",
       "  <thead>\n",
       "    <tr style=\"text-align: right;\">\n",
       "      <th></th>\n",
       "      <th>Id</th>\n",
       "      <th>Target</th>\n",
       "    </tr>\n",
       "  </thead>\n",
       "  <tbody>\n",
       "    <tr>\n",
       "      <th>0</th>\n",
       "      <td>ID_2f6873615</td>\n",
       "      <td>4</td>\n",
       "    </tr>\n",
       "    <tr>\n",
       "      <th>1</th>\n",
       "      <td>ID_1c78846d2</td>\n",
       "      <td>4</td>\n",
       "    </tr>\n",
       "    <tr>\n",
       "      <th>2</th>\n",
       "      <td>ID_e5442cf6a</td>\n",
       "      <td>4</td>\n",
       "    </tr>\n",
       "    <tr>\n",
       "      <th>3</th>\n",
       "      <td>ID_a8db26a79</td>\n",
       "      <td>4</td>\n",
       "    </tr>\n",
       "    <tr>\n",
       "      <th>4</th>\n",
       "      <td>ID_a62966799</td>\n",
       "      <td>4</td>\n",
       "    </tr>\n",
       "  </tbody>\n",
       "</table>\n",
       "</div>"
      ],
      "text/plain": [
       "             Id  Target\n",
       "0  ID_2f6873615       4\n",
       "1  ID_1c78846d2       4\n",
       "2  ID_e5442cf6a       4\n",
       "3  ID_a8db26a79       4\n",
       "4  ID_a62966799       4"
      ]
     },
     "execution_count": 43,
     "metadata": {},
     "output_type": "execute_result"
    }
   ],
   "source": [
    "identity['Target'] = xTest_truePred\n",
    "identity.head()"
   ]
  },
  {
   "cell_type": "code",
   "execution_count": null,
   "id": "34b4016c",
   "metadata": {},
   "outputs": [],
   "source": [
    "#for submission\n",
    "identity.to_csv('submission.csv',index = False)"
   ]
  }
 ],
 "metadata": {
  "kernelspec": {
   "display_name": "Python 3 (ipykernel)",
   "language": "python",
   "name": "python3"
  },
  "language_info": {
   "codemirror_mode": {
    "name": "ipython",
    "version": 3
   },
   "file_extension": ".py",
   "mimetype": "text/x-python",
   "name": "python",
   "nbconvert_exporter": "python",
   "pygments_lexer": "ipython3",
   "version": "3.8.5"
  },
  "toc": {
   "base_numbering": 1,
   "nav_menu": {},
   "number_sections": true,
   "sideBar": true,
   "skip_h1_title": false,
   "title_cell": "Table of Contents",
   "title_sidebar": "Contents",
   "toc_cell": false,
   "toc_position": {},
   "toc_section_display": true,
   "toc_window_display": false
  }
 },
 "nbformat": 4,
 "nbformat_minor": 5
}
